{
  "nbformat": 4,
  "nbformat_minor": 0,
  "metadata": {
    "colab": {
      "name": "DataVisualizationUsingMatplotlibAndSeaborn.ipynb",
      "provenance": [],
      "collapsed_sections": [],
      "authorship_tag": "ABX9TyPPcHV1KEK2jnfbA9xxx4UV",
      "include_colab_link": true
    },
    "kernelspec": {
      "name": "python3",
      "display_name": "Python 3"
    },
    "language_info": {
      "name": "python"
    }
  },
  "cells": [
    {
      "cell_type": "markdown",
      "metadata": {
        "id": "view-in-github",
        "colab_type": "text"
      },
      "source": [
        "<a href=\"https://colab.research.google.com/github/omkar178/Python/blob/main/DataVisualizationUsingMatplotlibAndSeaborn.ipynb\" target=\"_parent\"><img src=\"https://colab.research.google.com/assets/colab-badge.svg\" alt=\"Open In Colab\"/></a>"
      ]
    },
    {
      "cell_type": "markdown",
      "source": [
        "#Python Seaborn tutorial\n",
        "\n",
        "**Seaborn is a library mostly used for statistical plotting in Python. It is built on top of Matplotlib and provides beautiful default styles and color palettes to make statistical plots more attractive.**\n"
      ],
      "metadata": {
        "id": "GLxvA32PgbRo"
      }
    },
    {
      "cell_type": "code",
      "source": [
        "import numpy as np\n",
        "import pandas as pd\n",
        "import matplotlib as mpl\n",
        "import matplotlib.pyplot as plt\n",
        "import seaborn as sns"
      ],
      "metadata": {
        "id": "ypE-bmfHgxVw"
      },
      "execution_count": 1,
      "outputs": []
    },
    {
      "cell_type": "markdown",
      "source": [
        "#Different categories of plot in Seaborn \n",
        "\n",
        "####Plots are basically used for visualizing the relationship between variables. Those variables can be either be completely numerical or a category like a group, class or division. Seaborn divides plot into the below categories – \n",
        " \n",
        "\n",
        "    Relational plots: This plot is used to understand the relation between two variables.\n",
        "    Categorical plots: This plot deals with categorical variables and how they can be visualized.\n",
        "    Distribution plots: This plot is used for examining univariate and bivariate distributions\n",
        "    Regression plots: The regression plots in seaborn are primarily intended to add a visual guide that helps to emphasize patterns in a dataset during exploratory data analyses.\n",
        "    Matrix plots: A matrix plot is an array of scatterplots.\n",
        "    Multi-plot grids: It is an useful approach is to draw multiple instances of the same plot on different subsets of the dataset. **bold text**"
      ],
      "metadata": {
        "id": "82nXhWUjhuBd"
      }
    },
    {
      "cell_type": "code",
      "source": [
        ""
      ],
      "metadata": {
        "id": "XzTMWjO8h-v2"
      },
      "execution_count": null,
      "outputs": []
    }
  ]
}