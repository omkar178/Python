{
  "nbformat": 4,
  "nbformat_minor": 0,
  "metadata": {
    "colab": {
      "name": "Numpy.ipynb",
      "provenance": [],
      "collapsed_sections": [],
      "authorship_tag": "ABX9TyNXy6cFU2qnHuBMxiUw563c",
      "include_colab_link": true
    },
    "kernelspec": {
      "name": "python3",
      "display_name": "Python 3"
    },
    "language_info": {
      "name": "python"
    }
  },
  "cells": [
    {
      "cell_type": "markdown",
      "metadata": {
        "id": "view-in-github",
        "colab_type": "text"
      },
      "source": [
        "<a href=\"https://colab.research.google.com/github/omkar178/Python/blob/main/Numpy.ipynb\" target=\"_parent\"><img src=\"https://colab.research.google.com/assets/colab-badge.svg\" alt=\"Open In Colab\"/></a>"
      ]
    },
    {
      "cell_type": "markdown",
      "source": [
        "##**Numpy**"
      ],
      "metadata": {
        "id": "iegc7IoW3QvU"
      }
    },
    {
      "cell_type": "code",
      "source": [
        "import numpy as np"
      ],
      "metadata": {
        "id": "iWwulGhJ3VR6"
      },
      "execution_count": 1,
      "outputs": []
    },
    {
      "cell_type": "markdown",
      "source": [
        "##How to create a basic array in NumPy with different ways\n"
      ],
      "metadata": {
        "id": "0yJfTMDHP6by"
      }
    },
    {
      "cell_type": "code",
      "source": [
        "car_lst = [\"Sonata\",\"Haunady\",\"Maruti\",\"Rols Roy\"]\n",
        "arr_car_last = np.array(car_lst)\n",
        "\n",
        "print(arr_car_last)\n",
        "print('Data type of car_lst :',type(car_lst))\n",
        "print('Data type of arr_car_last : ',type(arr_car_last))"
      ],
      "metadata": {
        "id": "YV6QsYPoDUVR"
      },
      "execution_count": null,
      "outputs": []
    },
    {
      "cell_type": "code",
      "source": [
        "numpyArray = np.arange(0,50)\n",
        "print(numpyArray)"
      ],
      "metadata": {
        "id": "dWQmGbmD-vfS"
      },
      "execution_count": null,
      "outputs": []
    },
    {
      "cell_type": "code",
      "source": [
        "matrix = np.linspace(0,5)\n",
        "print(matrix)\n",
        "matrix"
      ],
      "metadata": {
        "id": "dFglhMK36JTl"
      },
      "execution_count": null,
      "outputs": []
    },
    {
      "cell_type": "code",
      "source": [
        "matrix1 =  np.zeros([3,5])\n",
        "print(matrix1)\n",
        "matrix1"
      ],
      "metadata": {
        "id": "6BRQbknr9e5L"
      },
      "execution_count": null,
      "outputs": []
    },
    {
      "cell_type": "code",
      "source": [
        "matrix2 = np.eye(10)\n",
        "matrix2"
      ],
      "metadata": {
        "id": "QJlym_ozCNOZ"
      },
      "execution_count": null,
      "outputs": []
    },
    {
      "cell_type": "code",
      "source": [
        "matrix3 = np.ones(5)\n",
        "print(matrix3)"
      ],
      "metadata": {
        "id": "KNVrrIaTQIpd"
      },
      "execution_count": null,
      "outputs": []
    },
    {
      "cell_type": "code",
      "source": [
        "matrix4 = np.empty(10)\n",
        "print(matrix4)"
      ],
      "metadata": {
        "id": "QZX3_YE9QXpA"
      },
      "execution_count": null,
      "outputs": []
    },
    {
      "cell_type": "markdown",
      "source": [
        "##Adding, removing, and sorting elements"
      ],
      "metadata": {
        "id": "X8qhbJvaQ5hc"
      }
    },
    {
      "cell_type": "code",
      "source": [
        "arr = np.array([2, 1, 5, 3, 7, 4, 6, 8])\n",
        "np.sort(arr)\n"
      ],
      "metadata": {
        "id": "hBZBLSSsQ8_D"
      },
      "execution_count": null,
      "outputs": []
    },
    {
      "cell_type": "code",
      "source": [
        "a = np.array([1, 2, 3, 4])\n",
        "b = np.array([5, 6, 7, 8])\n",
        "np.concatenate((a, b))\n",
        "c = a[0:2] \n",
        "c"
      ],
      "metadata": {
        "id": "bOqSo4PRTr-F"
      },
      "execution_count": null,
      "outputs": []
    }
  ]
}