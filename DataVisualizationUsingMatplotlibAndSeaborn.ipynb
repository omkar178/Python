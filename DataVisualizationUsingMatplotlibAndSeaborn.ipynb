{
  "nbformat": 4,
  "nbformat_minor": 0,
  "metadata": {
    "colab": {
      "name": "DataVisualizationUsingMatplotlibAndSeaborn.ipynb",
      "provenance": [],
      "authorship_tag": "ABX9TyNaWIwvk9oXAspMPd7pwS0A",
      "include_colab_link": true
    },
    "kernelspec": {
      "name": "python3",
      "display_name": "Python 3"
    },
    "language_info": {
      "name": "python"
    }
  },
  "cells": [
    {
      "cell_type": "markdown",
      "metadata": {
        "id": "view-in-github",
        "colab_type": "text"
      },
      "source": [
        "<a href=\"https://colab.research.google.com/github/omkar178/Python/blob/main/DataVisualizationUsingMatplotlibAndSeaborn.ipynb\" target=\"_parent\"><img src=\"https://colab.research.google.com/assets/colab-badge.svg\" alt=\"Open In Colab\"/></a>"
      ]
    },
    {
      "cell_type": "markdown",
      "source": [
        "#Python Seaborn tutorial\n",
        "\n",
        "**Seaborn is a library mostly used for statistical plotting in Python. It is built on top of Matplotlib and provides beautiful default styles and color palettes to make statistical plots more attractive.**\n"
      ],
      "metadata": {
        "id": "GLxvA32PgbRo"
      }
    },
    {
      "cell_type": "code",
      "source": [
        "import numpy as np\n",
        "import pandas as pd\n",
        "import matplotlib as mpl\n",
        "import matplotlib.pyplot as plt\n",
        "import seaborn as sns"
      ],
      "metadata": {
        "id": "ypE-bmfHgxVw"
      },
      "execution_count": 1,
      "outputs": []
    }
  ]
}