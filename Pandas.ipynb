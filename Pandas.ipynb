{
  "nbformat": 4,
  "nbformat_minor": 0,
  "metadata": {
    "colab": {
      "name": "Pandas.ipynb",
      "provenance": [],
      "authorship_tag": "ABX9TyO8eVJ3atVe8tVPkx6V4u4c",
      "include_colab_link": true
    },
    "kernelspec": {
      "name": "python3",
      "display_name": "Python 3"
    },
    "language_info": {
      "name": "python"
    }
  },
  "cells": [
    {
      "cell_type": "markdown",
      "metadata": {
        "id": "view-in-github",
        "colab_type": "text"
      },
      "source": [
        "<a href=\"https://colab.research.google.com/github/omkar178/Python/blob/main/Pandas.ipynb\" target=\"_parent\"><img src=\"https://colab.research.google.com/assets/colab-badge.svg\" alt=\"Open In Colab\"/></a>"
      ]
    },
    {
      "cell_type": "code",
      "execution_count": 2,
      "metadata": {
        "id": "yhHg33XrNlqf"
      },
      "outputs": [],
      "source": [
        "import numpy as np\n",
        "import pandas as pd"
      ]
    },
    {
      "cell_type": "code",
      "source": [
        "df = pd.DataFrame({\"Name\":['Omkar','Priya','Roma'],\"age\":[26,24,29],\"sex\":['male','female','female']})\n",
        "npdf = pd.DataFrame(np.random.randn(5,2),columns=['dataFirst','dataSecond'])\n",
        "\n",
        "print(df)\n",
        "\n",
        "print(df[\"age\"])\n",
        "\n",
        "npdf"
      ],
      "metadata": {
        "id": "XguTPLcfTXJ5"
      },
      "execution_count": null,
      "outputs": []
    },
    {
      "cell_type": "code",
      "source": [
        "df.describe()"
      ],
      "metadata": {
        "id": "1CGfTg3vWM90"
      },
      "execution_count": null,
      "outputs": []
    }
  ]
}