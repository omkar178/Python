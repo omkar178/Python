{
  "nbformat": 4,
  "nbformat_minor": 0,
  "metadata": {
    "colab": {
      "name": "PythonString.ipynb",
      "provenance": [],
      "collapsed_sections": [],
      "toc_visible": true,
      "authorship_tag": "ABX9TyOw+8Ffmwkid7LJPAdEyAUH",
      "include_colab_link": true
    },
    "kernelspec": {
      "name": "python3",
      "display_name": "Python 3"
    },
    "language_info": {
      "name": "python"
    }
  },
  "cells": [
    {
      "cell_type": "markdown",
      "metadata": {
        "id": "view-in-github",
        "colab_type": "text"
      },
      "source": [
        "<a href=\"https://colab.research.google.com/github/omkar178/Python/blob/main/PythonString.ipynb\" target=\"_parent\"><img src=\"https://colab.research.google.com/assets/colab-badge.svg\" alt=\"Open In Colab\"/></a>"
      ]
    },
    {
      "cell_type": "code",
      "execution_count": 4,
      "metadata": {
        "colab": {
          "base_uri": "https://localhost:8080/"
        },
        "id": "e2Hzcnylpr8P",
        "outputId": "2dc1f0a1-0a4b-4228-8718-73b52e0e27eb"
      },
      "outputs": [
        {
          "output_type": "stream",
          "name": "stdout",
          "text": [
            "Hello world my, Name is Alexander and mt car color is red\n",
            "57\n"
          ]
        }
      ],
      "source": [
        "name = \"Alexander\"\n",
        "car_color = \"red\"\n",
        "print(\"Hello world my, Name is \" + name + \" and mt car color is \"+car_color)\n",
        "msg = \"Hello world my, Name is \" + name + \" and mt car color is \"+car_color\n",
        "print(len(msg))"
      ]
    },
    {
      "cell_type": "code",
      "source": [
        "print(len(name))"
      ],
      "metadata": {
        "colab": {
          "base_uri": "https://localhost:8080/"
        },
        "id": "Kq_PxJqMqqA4",
        "outputId": "4d139d8e-080d-4f4d-b3bd-e47bde96ec6a"
      },
      "execution_count": 5,
      "outputs": [
        {
          "output_type": "stream",
          "name": "stdout",
          "text": [
            "9\n"
          ]
        }
      ]
    },
    {
      "cell_type": "code",
      "source": [
        "print(len(name[0:5]))"
      ],
      "metadata": {
        "colab": {
          "base_uri": "https://localhost:8080/"
        },
        "id": "hCMipRajqrRl",
        "outputId": "1757ec7a-1ed5-47b8-f8c4-3a8693c4a353"
      },
      "execution_count": 6,
      "outputs": [
        {
          "output_type": "stream",
          "name": "stdout",
          "text": [
            "5\n"
          ]
        }
      ]
    },
    {
      "cell_type": "code",
      "source": [
        "print(name[0:4])"
      ],
      "metadata": {
        "colab": {
          "base_uri": "https://localhost:8080/"
        },
        "id": "GXX8kfEksIcV",
        "outputId": "a8a8f484-0b03-45fb-c8af-fb009101956b"
      },
      "execution_count": 7,
      "outputs": [
        {
          "output_type": "stream",
          "name": "stdout",
          "text": [
            "Alex\n"
          ]
        }
      ]
    },
    {
      "cell_type": "code",
      "source": [
        "#Count function\n",
        "\"This is a user car\".count('r')"
      ],
      "metadata": {
        "colab": {
          "base_uri": "https://localhost:8080/"
        },
        "id": "jr7cI4dC_sp3",
        "outputId": "386e12fb-5766-45be-da80-dae738ef0750"
      },
      "execution_count": 8,
      "outputs": [
        {
          "output_type": "execute_result",
          "data": {
            "text/plain": [
              "2"
            ]
          },
          "metadata": {},
          "execution_count": 8
        }
      ]
    },
    {
      "cell_type": "code",
      "source": [
        "\"This is a user car\".count('r',5)"
      ],
      "metadata": {
        "colab": {
          "base_uri": "https://localhost:8080/"
        },
        "id": "lVW13OEuAdVC",
        "outputId": "f3ba72a9-68fc-4447-cca7-fe41a1479ff4"
      },
      "execution_count": 9,
      "outputs": [
        {
          "output_type": "execute_result",
          "data": {
            "text/plain": [
              "2"
            ]
          },
          "metadata": {},
          "execution_count": 9
        }
      ]
    },
    {
      "cell_type": "code",
      "source": [
        "Message = \"No Smoking here\"\n",
        "print(\"Length of message \",len(Message)) \n",
        "print(\"Count of O in Message is \",Message.count('o'))"
      ],
      "metadata": {
        "colab": {
          "base_uri": "https://localhost:8080/"
        },
        "id": "dpQGpqLuAyzV",
        "outputId": "1e8d2fdb-2723-44db-8679-9c57fc513197"
      },
      "execution_count": 2,
      "outputs": [
        {
          "output_type": "stream",
          "name": "stdout",
          "text": [
            "Length of message  15\n",
            "Count of O in Message is  2\n"
          ]
        }
      ]
    },
    {
      "cell_type": "code",
      "source": [
        "message = \"are you working as a Python programmer ?\"\n",
        "print(\"Number of vowels in message is \",message.count('a') + message.count('u') + message.count('i') + message.count('o') + message.count('e'))"
      ],
      "metadata": {
        "colab": {
          "base_uri": "https://localhost:8080/"
        },
        "id": "dV3D2WblBDul",
        "outputId": "6a1aae83-57cb-4008-cdc9-1da451adcee0"
      },
      "execution_count": 3,
      "outputs": [
        {
          "output_type": "stream",
          "name": "stdout",
          "text": [
            "Number of vowels in message is  12\n"
          ]
        }
      ]
    },
    {
      "cell_type": "code",
      "source": [
        "#'user_car'In order to useatuple of suffixes as we check from index 4 to 8\n",
        "\"user_car\".endswith(('car','ar'),4,8)"
      ],
      "metadata": {
        "colab": {
          "base_uri": "https://localhost:8080/"
        },
        "id": "74Nvj4H1t_2r",
        "outputId": "bad1e05f-b712-42ed-e647-a126a0c847e2"
      },
      "execution_count": 10,
      "outputs": [
        {
          "output_type": "execute_result",
          "data": {
            "text/plain": [
              "True"
            ]
          },
          "metadata": {},
          "execution_count": 10
        }
      ]
    }
  ]
}