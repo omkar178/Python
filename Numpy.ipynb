{
  "nbformat": 4,
  "nbformat_minor": 0,
  "metadata": {
    "colab": {
      "name": "Numpy.ipynb",
      "provenance": [],
      "collapsed_sections": [],
      "authorship_tag": "ABX9TyO9rbsNWAxfFytBnsterjBg",
      "include_colab_link": true
    },
    "kernelspec": {
      "name": "python3",
      "display_name": "Python 3"
    },
    "language_info": {
      "name": "python"
    }
  },
  "cells": [
    {
      "cell_type": "markdown",
      "metadata": {
        "id": "view-in-github",
        "colab_type": "text"
      },
      "source": [
        "<a href=\"https://colab.research.google.com/github/omkar178/Python/blob/main/Numpy.ipynb\" target=\"_parent\"><img src=\"https://colab.research.google.com/assets/colab-badge.svg\" alt=\"Open In Colab\"/></a>"
      ]
    },
    {
      "cell_type": "markdown",
      "source": [
        "##**Numpy**"
      ],
      "metadata": {
        "id": "iegc7IoW3QvU"
      }
    },
    {
      "cell_type": "code",
      "source": [
        "import numpy as np"
      ],
      "metadata": {
        "id": "iWwulGhJ3VR6"
      },
      "execution_count": null,
      "outputs": []
    },
    {
      "cell_type": "markdown",
      "source": [
        "#arange(start,stop,step) \n"
      ],
      "metadata": {
        "id": "xICB2zer_Nzd"
      }
    },
    {
      "cell_type": "code",
      "source": [
        "numpyArray = np.arange(0,50)\n",
        "print(numpyArray)"
      ],
      "metadata": {
        "id": "dWQmGbmD-vfS"
      },
      "execution_count": null,
      "outputs": []
    },
    {
      "cell_type": "code",
      "source": [
        "matrix = np.linspace(0,5)\n",
        "print(matrix)\n",
        "matrix"
      ],
      "metadata": {
        "id": "dFglhMK36JTl"
      },
      "execution_count": null,
      "outputs": []
    },
    {
      "cell_type": "code",
      "source": [
        "matrix1 =  np.zeros([3,5])\n",
        "print(matrix1)\n",
        "matrix1"
      ],
      "metadata": {
        "id": "6BRQbknr9e5L"
      },
      "execution_count": null,
      "outputs": []
    },
    {
      "cell_type": "code",
      "source": [
        "matrix2 = np.eye(10)\n",
        "matrix2"
      ],
      "metadata": {
        "id": "QJlym_ozCNOZ"
      },
      "execution_count": null,
      "outputs": []
    }
  ]
}